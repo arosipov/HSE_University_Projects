{
  "cells": [
    {
      "cell_type": "markdown",
      "metadata": {},
      "source": [
        "# Hotel Database Design"
      ]
    },
    {
      "cell_type": "markdown",
      "metadata": {},
      "source": [
        "## Objective\n",
        "\n",
        "Design and implement a relational database for a hotel, providing a clear, organized, and professional representation of the hotel’s data."
      ]
    },
    {
      "cell_type": "markdown",
      "metadata": {},
      "source": [
        "## Instructions\n",
        "\n",
        "1. **Table Creation**: Incorporate the following tables into the database:\n",
        "\n",
        "    - `guests`: Each guest is assigned a unique integer identifier, starting from 1. Include an additional five attributes that can effectively characterize a hotel guest.\n",
        "    \n",
        "    - `buildings`: The hotel encompasses a large territory with multiple buildings. Each building is assigned a unique name (e.g., 1, 2, 3A, 3B, …), location coordinates (latitude and longitude), the total number of rooms, the number of floors, and a brief description.\n",
        "    \n",
        "    - `rooms`: Each room is characterized by its area, number of beds, presence of a bath, maximum occupancy, floor, and associated building.\n",
        "    \n",
        "    - `reservations`: This table records the reservations made by guests. Each reservation is defined by the reservation period, duration of stay in days, guest, and room. New reservations are automatically assigned a unique numeric identifier. The board type (RO, BB, HB, FB, AI) is also recorded in the reservation.\n",
        "\n",
        "2. **Foreign Keys**: Establish the necessary foreign keys to maintain data integrity.\n",
        "\n",
        "3. **Check Constraints**: Implement three check constraints to ensure data validity.\n",
        "\n",
        "4. **Data Entry**: Populate the tables as follows:\n",
        "\n",
        "    - `buildings`: Insert 2 records.\n",
        "\n",
        "    - `rooms`: Add 3 records in the first building and 2 in the second building.\n",
        "    \n",
        "    - `guests`: Register 2 guests with one stay and 2 guests with two stays.\n",
        "\n",
        "5. **Database Dump**: Utilize `pg_dump` to generate a database dump file."
      ]
    },
    {
      "cell_type": "markdown",
      "metadata": {},
      "source": [
        "## Solution"
      ]
    },
    {
      "cell_type": "markdown",
      "metadata": {},
      "source": [
        "### Table Creation"
      ]
    },
    {
      "cell_type": "markdown",
      "metadata": {},
      "source": [
        "Let's clarify the types of relationships between the tables:\n",
        "\n",
        "1. `guests` and `reservations`:\n",
        "    - This is a one-to-many relationship, where one guest can make multiple reservations, but each reservation is linked to one specific guest.\n",
        "\n",
        "2. `buildings` and `rooms`:\n",
        "    - This is a one-to-many relationship. One building can contain many rooms, but each room belongs to only one specific building.\n",
        "\n",
        "3. `rooms` and `reservations`:\n",
        "    - This is also a one-to-many relationship. One room can have many reservations over time, but each reservation is for one specific room."
      ]
    },
    {
      "cell_type": "markdown",
      "metadata": {},
      "source": [
        "```sql\n",
        "-- Creating the guests table\n",
        "CREATE TABLE guests (\n",
        "    guest_id SERIAL PRIMARY KEY,\n",
        "    first_name VARCHAR(50) NOT NULL,\n",
        "    last_name VARCHAR(50) NOT NULL,\n",
        "    birth_date DATE,\n",
        "    email VARCHAR(50) UNIQUE NOT NULL,\n",
        "    phone_number VARCHAR(25),\n",
        "    vip_status BOOLEAN DEFAULT FALSE\n",
        ");\n",
        "\n",
        "-- Creating the buildings table\n",
        "CREATE TABLE buildings (\n",
        "    building_id SERIAL PRIMARY KEY,\n",
        "    building_name VARCHAR(10) UNIQUE NOT NULL,\n",
        "    latitude NUMERIC(9, 6) NOT NULL,\n",
        "    longitude NUMERIC(9, 6) NOT NULL,\n",
        "    num_of_rooms INT NOT NULL CHECK (num_of_rooms > 0),\n",
        "    num_of_floors INT NOT NULL CHECK (num_of_floors > 0),\n",
        "    description TEXT\n",
        ");\n",
        "\n",
        "-- Creating the rooms table\n",
        "CREATE TABLE rooms (\n",
        "    room_id SERIAL PRIMARY KEY,\n",
        "    area NUMERIC(5, 2) NOT NULL CHECK (area > 0),\n",
        "    num_of_beds INT NOT NULL CHECK (num_of_beds > 0),\n",
        "    has_bath BOOLEAN DEFAULT FALSE,\n",
        "    max_occupancy INT NOT NULL CHECK (max_occupancy > 0),\n",
        "    floor INT NOT NULL CHECK (floor > 0),\n",
        "    building_id INT NOT NULL REFERENCES buildings(building_id)\n",
        ");\n",
        "\n",
        "-- Creating the reservations table\n",
        "CREATE TABLE reservations (\n",
        "    reservation_id SERIAL PRIMARY KEY,\n",
        "    start_date TIMESTAMP NOT NULL,\n",
        "    end_date TIMESTAMP NOT NULL CHECK (end_date > start_date),\n",
        "    duration_days INT NOT NULL CHECK (duration_days > 0),\n",
        "    board_type CHAR(2) NOT NULL CHECK (board_type IN ('RO', 'BB', 'HB', 'FB', 'AI')),\n",
        "    guest_id INT NOT NULL REFERENCES guests(guest_id),\n",
        "    room_id INT NOT NULL REFERENCES rooms(room_id)\n",
        ");\n",
        "```"
      ]
    },
    {
      "cell_type": "markdown",
      "metadata": {},
      "source": [
        "### ER Diagram"
      ]
    },
    {
      "attachments": {
        "image.png": {
          "image/png": "[encoded data removed]"
        }
      },
      "cell_type": "markdown",
      "metadata": {},
      "source": [
        "![image.png](attachment:image.png)"
      ]
    },
    {
      "cell_type": "markdown",
      "metadata": {},
      "source": [
        "### Data Insertion"
      ]
    },
    {
      "cell_type": "markdown",
      "metadata": {},
      "source": [
        "```sql\n",
        "-- Inserting data into the guests table\n",
        "INSERT INTO guests (first_name, last_name, birth_date, email, phone_number, vip_status)\n",
        "VALUES \n",
        "    ('John', 'Doe', '1990-01-01', 'john.doe@example.com', '1234567890', TRUE),\n",
        "    ('Jane', 'Doe', '1995-02-02', 'jane.doe@example.com', '0987654321', TRUE),\n",
        "    ('Angela', 'Smith', '1985-03-03', 'angela.smith@example.com', '1112223333', FALSE),\n",
        "    ('Walter', 'Black', '1980-04-04', 'walter.black@example.com', '4445556666', FALSE);\n",
        "\n",
        "-- Inserting data into the buildings table\n",
        "INSERT INTO buildings (building_name, latitude, longitude, num_of_rooms, num_of_floors, description)\n",
        "VALUES \n",
        "    ('1A', 36.114510, -115.194669, 75, 8, 'Palms Casino Resort, Las Vegas'),\n",
        "    ('2B', 34.081823, -118.413357, 50, 6, 'The Beverly Hills Hotel, California');\n",
        "\n",
        "-- Inserting data into the rooms table\n",
        "INSERT INTO rooms (area, num_of_beds, has_bath, max_occupancy, floor, building_id)\n",
        "VALUES \n",
        "    (25.50, 2, TRUE, 2, 1, 1),\n",
        "    (30.00, 3, TRUE, 3, 2, 1),\n",
        "    (20.00, 1, FALSE, 1, 3, 1),\n",
        "    (35.00, 4, TRUE, 4, 1, 2),\n",
        "    (22.5, 1, FALSE, 1, 1, 2);\n",
        "\n",
        "-- Inserting data into the reservations table\n",
        "INSERT INTO reservations (start_date, end_date, duration_days, board_type, guest_id, room_id)\n",
        "VALUES \n",
        "    ('2024-01-01 12:00:00.000', '2024-01-08 12:00:00.000', 7, 'HB', 1, 1),\n",
        "    ('2024-01-01 12:00:00.000', '2024-01-05 12:00:00.000', 4, 'BB', 2, 2),\n",
        "    ('2024-02-05 10:00:00.000', '2024-02-09 10:00:00.000', 4, 'AI', 3, 3),\n",
        "    ('2024-01-05 09:00:00.000', '2024-01-07 09:00:00.000', 2, 'HB', 3, 4),\n",
        "    ('2024-01-05 12:00:00.000', '2024-01-19 12:00:00.000', 14, 'FB', 4, 5),\n",
        "    ('2024-02-01 11:30:00.000', '2024-02-07 11:30:00.000', 6, 'HB', 4, 1);\n",
        "```"
      ]
    }
  ],
  "metadata": {
    "colab": {
      "provenance": []
    },
    "kernelspec": {
      "display_name": "Python 3",
      "name": "python3"
    },
    "language_info": {
      "codemirror_mode": {
        "name": "ipython",
        "version": 3
      },
      "file_extension": ".py",
      "mimetype": "text/x-python",
      "name": "python",
      "nbconvert_exporter": "python",
      "pygments_lexer": "ipython3",
      "version": "3.11.4"
    }
  },
  "nbformat": 4,
  "nbformat_minor": 0
}
